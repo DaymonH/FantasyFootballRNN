{
 "cells": [
  {
   "cell_type": "code",
   "execution_count": 2,
   "metadata": {},
   "outputs": [
    {
     "name": "stderr",
     "output_type": "stream",
     "text": [
      "/var/folders/f7/9k11pk996q31ypw3c9cfvb_r0000gn/T/ipykernel_11987/3415577019.py:2: DtypeWarning: Columns (45,132,137,138,145,146,151,152,168,169,217) have mixed types. Specify dtype option on import or set low_memory=False.\n",
      "  df = pd.read_csv('newData/pbpcom2023_cleaned.csv')\n"
     ]
    }
   ],
   "source": [
    "import pandas as pd\n",
    "df = pd.read_csv('newData/pbpcom2023_cleaned.csv')"
   ]
  },
  {
   "cell_type": "code",
   "execution_count": null,
   "metadata": {},
   "outputs": [],
   "source": [
    "list(df.columns)"
   ]
  },
  {
   "cell_type": "code",
   "execution_count": null,
   "metadata": {},
   "outputs": [],
   "source": [
    "\n",
    "\n",
    "# Group by team and week\n",
    "grouped = df.groupby(['posteam', 'week'])\n",
    "\n",
    "# Calculate Offense Run/Pass Ratios\n",
    "df['Offense Run/Pass Ratio This season'] = grouped.apply(lambda x: x['rush_attempt'].sum() / x['pass_attempt'].sum())\n",
    "df['Offense Run/Pass Ratio Last 3 games'] = grouped.apply(lambda x: x['rush_attempt'].tail(3).sum() / x['pass_attempt'].tail(3).sum())\n",
    "df['Offense Run/Pass Ratio Last season'] = grouped.apply(lambda x: x['rush_attempt'].sum() / x['pass_attempt'].sum())  # Adjust for season data\n",
    "\n",
    "# Calculate Defensive stats for the current team\n",
    "defense_grouped = df.groupby(['defteam', 'week'])\n",
    "\n",
    "df['Defense Pass Yards Per Attempt This season'] = defense_grouped.apply(lambda x: x['passing_yards'].sum() / x['pass_attempt'].sum())\n",
    "df['Defense Rush Yards Per Attempt This season'] = defense_grouped.apply(lambda x: x['rushing_yards'].sum() / x['rush_attempt'].sum())\n",
    "df['Defense Plays Allowed This season'] = defense_grouped.size()\n",
    "\n",
    "# You would repeat similar operations for each of the stats:\n",
    "# - Defense Pass Yards Per Attempt Last 3 games, Last season\n",
    "# - Defense Rush Yards Per Attempt Last 3 games, Last season\n",
    "# - Defense Blitz %, Sacks, Interceptions etc.\n",
    "\n",
    "# Example: Calculating Defense Blitz %\n",
    "df['Defense Blitz % This season'] = defense_grouped.apply(lambda x: x['qb_hit'].sum() / len(x))\n",
    "# Example: Calculating Defense Sacks\n",
    "df['Defense Sacks This season'] = defense_grouped['sack'].sum()\n",
    "\n",
    "# Note: Repeat similarly for each of the columns you're interested in\n",
    "\n",
    "# Resulting DataFrame with calculated features\n",
    "print(df.head())\n"
   ]
  },
  {
   "cell_type": "code",
   "execution_count": 8,
   "metadata": {},
   "outputs": [],
   "source": [
    "df = pd.read_csv('newData/advstats_week_def_2023.csv')"
   ]
  },
  {
   "cell_type": "code",
   "execution_count": 9,
   "metadata": {},
   "outputs": [
    {
     "data": {
      "text/plain": [
       "['game_id',\n",
       " 'pfr_game_id',\n",
       " 'season',\n",
       " 'week',\n",
       " 'game_type',\n",
       " 'team',\n",
       " 'opponent',\n",
       " 'pfr_player_name',\n",
       " 'pfr_player_id',\n",
       " 'def_ints',\n",
       " 'def_targets',\n",
       " 'def_completions_allowed',\n",
       " 'def_completion_pct',\n",
       " 'def_yards_allowed',\n",
       " 'def_yards_allowed_per_cmp',\n",
       " 'def_yards_allowed_per_tgt',\n",
       " 'def_receiving_td_allowed',\n",
       " 'def_passer_rating_allowed',\n",
       " 'def_adot',\n",
       " 'def_air_yards_completed',\n",
       " 'def_yards_after_catch',\n",
       " 'def_times_blitzed',\n",
       " 'def_times_hurried',\n",
       " 'def_times_hitqb',\n",
       " 'def_sacks',\n",
       " 'def_pressures',\n",
       " 'def_tackles_combined',\n",
       " 'def_missed_tackles',\n",
       " 'def_missed_tackle_pct']"
      ]
     },
     "execution_count": 9,
     "metadata": {},
     "output_type": "execute_result"
    }
   ],
   "source": [
    "list(df.columns)"
   ]
  },
  {
   "cell_type": "code",
   "execution_count": null,
   "metadata": {},
   "outputs": [],
   "source": []
  }
 ],
 "metadata": {
  "kernelspec": {
   "display_name": "Python 3",
   "language": "python",
   "name": "python3"
  },
  "language_info": {
   "codemirror_mode": {
    "name": "ipython",
    "version": 3
   },
   "file_extension": ".py",
   "mimetype": "text/x-python",
   "name": "python",
   "nbconvert_exporter": "python",
   "pygments_lexer": "ipython3",
   "version": "3.10.11"
  }
 },
 "nbformat": 4,
 "nbformat_minor": 2
}
