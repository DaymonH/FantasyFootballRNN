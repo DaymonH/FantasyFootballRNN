{
 "cells": [
  {
   "cell_type": "code",
   "execution_count": 1,
   "metadata": {},
   "outputs": [],
   "source": [
    "import pandas as pd"
   ]
  },
  {
   "cell_type": "code",
   "execution_count": 7,
   "metadata": {},
   "outputs": [],
   "source": [
    "df = pd.read_parquet('historical_contracts.parquet')\n",
    "df.to_csv('historical_contracts.csv', index=False)"
   ]
  },
  {
   "cell_type": "code",
   "execution_count": 6,
   "metadata": {},
   "outputs": [
    {
     "data": {
      "text/plain": [
       "Index(['player', 'position', 'team', 'is_active', 'year_signed', 'years',\n",
       "       'value', 'apy', 'guaranteed', 'apy_cap_pct', 'inflated_value',\n",
       "       'inflated_apy', 'inflated_guaranteed', 'player_page', 'otc_id',\n",
       "       'gsis_id', 'date_of_birth', 'height', 'weight', 'college', 'draft_year',\n",
       "       'draft_round', 'draft_overall', 'draft_team', 'cols'],\n",
       "      dtype='object')"
      ]
     },
     "execution_count": 6,
     "metadata": {},
     "output_type": "execute_result"
    }
   ],
   "source": [
    "df.columns"
   ]
  },
  {
   "cell_type": "code",
   "execution_count": 8,
   "metadata": {},
   "outputs": [
    {
     "data": {
      "text/plain": [
       "(42751, 25)"
      ]
     },
     "execution_count": 8,
     "metadata": {},
     "output_type": "execute_result"
    }
   ],
   "source": [
    "df.shape"
   ]
  },
  {
   "cell_type": "code",
   "execution_count": 5,
   "metadata": {},
   "outputs": [
    {
     "data": {
      "text/html": [
       "<div>\n",
       "<style scoped>\n",
       "    .dataframe tbody tr th:only-of-type {\n",
       "        vertical-align: middle;\n",
       "    }\n",
       "\n",
       "    .dataframe tbody tr th {\n",
       "        vertical-align: top;\n",
       "    }\n",
       "\n",
       "    .dataframe thead th {\n",
       "        text-align: right;\n",
       "    }\n",
       "</style>\n",
       "<table border=\"1\" class=\"dataframe\">\n",
       "  <thead>\n",
       "    <tr style=\"text-align: right;\">\n",
       "      <th></th>\n",
       "      <th>player</th>\n",
       "      <th>position</th>\n",
       "      <th>team</th>\n",
       "      <th>is_active</th>\n",
       "      <th>year_signed</th>\n",
       "      <th>years</th>\n",
       "      <th>value</th>\n",
       "      <th>apy</th>\n",
       "      <th>guaranteed</th>\n",
       "      <th>apy_cap_pct</th>\n",
       "      <th>inflated_value</th>\n",
       "      <th>inflated_apy</th>\n",
       "      <th>inflated_guaranteed</th>\n",
       "      <th>player_page</th>\n",
       "      <th>otc_id</th>\n",
       "      <th>gsis_id</th>\n",
       "      <th>date_of_birth</th>\n",
       "      <th>height</th>\n",
       "      <th>weight</th>\n",
       "      <th>college</th>\n",
       "      <th>draft_year</th>\n",
       "      <th>draft_round</th>\n",
       "      <th>draft_overall</th>\n",
       "      <th>draft_team</th>\n",
       "      <th>cols</th>\n",
       "    </tr>\n",
       "  </thead>\n",
       "  <tbody>\n",
       "    <tr>\n",
       "      <th>0</th>\n",
       "      <td>Joe Burrow</td>\n",
       "      <td>QB</td>\n",
       "      <td>Bengals</td>\n",
       "      <td>True</td>\n",
       "      <td>2023</td>\n",
       "      <td>5.0</td>\n",
       "      <td>275.000</td>\n",
       "      <td>55.000000</td>\n",
       "      <td>219.010000</td>\n",
       "      <td>0.245</td>\n",
       "      <td>312.433274</td>\n",
       "      <td>62.486655</td>\n",
       "      <td>248.821859</td>\n",
       "      <td>https://overthecap.com/player/joe-burrow/8741/</td>\n",
       "      <td>8741</td>\n",
       "      <td>00-0036442</td>\n",
       "      <td>None</td>\n",
       "      <td>6'4\"</td>\n",
       "      <td>215</td>\n",
       "      <td>LSU</td>\n",
       "      <td>2020.0</td>\n",
       "      <td>1.0</td>\n",
       "      <td>1.0</td>\n",
       "      <td>Bengals</td>\n",
       "      <td>[{'year': '2020', 'team': 'Bengals', 'base_sal...</td>\n",
       "    </tr>\n",
       "    <tr>\n",
       "      <th>1</th>\n",
       "      <td>Aaron Rodgers</td>\n",
       "      <td>QB</td>\n",
       "      <td>GB/NYJ</td>\n",
       "      <td>False</td>\n",
       "      <td>2022</td>\n",
       "      <td>5.0</td>\n",
       "      <td>150.815</td>\n",
       "      <td>50.271667</td>\n",
       "      <td>150.665000</td>\n",
       "      <td>0.241</td>\n",
       "      <td>185.005528</td>\n",
       "      <td>61.668510</td>\n",
       "      <td>184.821523</td>\n",
       "      <td>https://overthecap.com/player/aaron-rodgers/1085/</td>\n",
       "      <td>1085</td>\n",
       "      <td>00-0023459</td>\n",
       "      <td>None</td>\n",
       "      <td>6'2\"</td>\n",
       "      <td>225</td>\n",
       "      <td>California</td>\n",
       "      <td>2005.0</td>\n",
       "      <td>1.0</td>\n",
       "      <td>24.0</td>\n",
       "      <td>Packers</td>\n",
       "      <td>[{'year': '2005', 'team': 'Packers', 'base_sal...</td>\n",
       "    </tr>\n",
       "    <tr>\n",
       "      <th>2</th>\n",
       "      <td>Josh Allen</td>\n",
       "      <td>QB</td>\n",
       "      <td>Bills</td>\n",
       "      <td>True</td>\n",
       "      <td>2021</td>\n",
       "      <td>6.0</td>\n",
       "      <td>258.000</td>\n",
       "      <td>43.000000</td>\n",
       "      <td>150.000000</td>\n",
       "      <td>0.236</td>\n",
       "      <td>361.058630</td>\n",
       "      <td>60.176438</td>\n",
       "      <td>209.917808</td>\n",
       "      <td>https://overthecap.com/player/josh-allen/6892/</td>\n",
       "      <td>6892</td>\n",
       "      <td>00-0034857</td>\n",
       "      <td>None</td>\n",
       "      <td>6'5\"</td>\n",
       "      <td>233</td>\n",
       "      <td>Wyoming</td>\n",
       "      <td>2018.0</td>\n",
       "      <td>1.0</td>\n",
       "      <td>7.0</td>\n",
       "      <td>Bills</td>\n",
       "      <td>[{'year': '2018', 'team': 'Bills', 'base_salar...</td>\n",
       "    </tr>\n",
       "    <tr>\n",
       "      <th>3</th>\n",
       "      <td>Russell Wilson</td>\n",
       "      <td>QB</td>\n",
       "      <td>Broncos</td>\n",
       "      <td>False</td>\n",
       "      <td>2022</td>\n",
       "      <td>5.0</td>\n",
       "      <td>245.000</td>\n",
       "      <td>49.000000</td>\n",
       "      <td>165.000000</td>\n",
       "      <td>0.235</td>\n",
       "      <td>300.542747</td>\n",
       "      <td>60.108549</td>\n",
       "      <td>202.406340</td>\n",
       "      <td>https://overthecap.com/player/russell-wilson/1...</td>\n",
       "      <td>1569</td>\n",
       "      <td>00-0029263</td>\n",
       "      <td>None</td>\n",
       "      <td>5'11\"</td>\n",
       "      <td>206</td>\n",
       "      <td>Wisconsin</td>\n",
       "      <td>2012.0</td>\n",
       "      <td>3.0</td>\n",
       "      <td>75.0</td>\n",
       "      <td>Seahawks</td>\n",
       "      <td>[{'year': '2012', 'team': 'Seahawks', 'base_sa...</td>\n",
       "    </tr>\n",
       "    <tr>\n",
       "      <th>4</th>\n",
       "      <td>Justin Herbert</td>\n",
       "      <td>QB</td>\n",
       "      <td>Chargers</td>\n",
       "      <td>True</td>\n",
       "      <td>2023</td>\n",
       "      <td>5.0</td>\n",
       "      <td>262.500</td>\n",
       "      <td>52.500000</td>\n",
       "      <td>193.738375</td>\n",
       "      <td>0.234</td>\n",
       "      <td>298.231762</td>\n",
       "      <td>59.646352</td>\n",
       "      <td>220.110236</td>\n",
       "      <td>https://overthecap.com/player/justin-herbert/8...</td>\n",
       "      <td>8746</td>\n",
       "      <td>00-0036355</td>\n",
       "      <td>None</td>\n",
       "      <td>6'6\"</td>\n",
       "      <td>237</td>\n",
       "      <td>Oregon</td>\n",
       "      <td>2020.0</td>\n",
       "      <td>1.0</td>\n",
       "      <td>6.0</td>\n",
       "      <td>Chargers</td>\n",
       "      <td>[{'year': '2020', 'team': 'Chargers', 'base_sa...</td>\n",
       "    </tr>\n",
       "  </tbody>\n",
       "</table>\n",
       "</div>"
      ],
      "text/plain": [
       "           player position      team  is_active  year_signed  years    value  \\\n",
       "0      Joe Burrow       QB   Bengals       True         2023    5.0  275.000   \n",
       "1   Aaron Rodgers       QB    GB/NYJ      False         2022    5.0  150.815   \n",
       "2      Josh Allen       QB     Bills       True         2021    6.0  258.000   \n",
       "3  Russell Wilson       QB   Broncos      False         2022    5.0  245.000   \n",
       "4  Justin Herbert       QB  Chargers       True         2023    5.0  262.500   \n",
       "\n",
       "         apy  guaranteed  apy_cap_pct  inflated_value  inflated_apy  \\\n",
       "0  55.000000  219.010000        0.245      312.433274     62.486655   \n",
       "1  50.271667  150.665000        0.241      185.005528     61.668510   \n",
       "2  43.000000  150.000000        0.236      361.058630     60.176438   \n",
       "3  49.000000  165.000000        0.235      300.542747     60.108549   \n",
       "4  52.500000  193.738375        0.234      298.231762     59.646352   \n",
       "\n",
       "   inflated_guaranteed                                        player_page  \\\n",
       "0           248.821859     https://overthecap.com/player/joe-burrow/8741/   \n",
       "1           184.821523  https://overthecap.com/player/aaron-rodgers/1085/   \n",
       "2           209.917808     https://overthecap.com/player/josh-allen/6892/   \n",
       "3           202.406340  https://overthecap.com/player/russell-wilson/1...   \n",
       "4           220.110236  https://overthecap.com/player/justin-herbert/8...   \n",
       "\n",
       "   otc_id     gsis_id date_of_birth height weight     college  draft_year  \\\n",
       "0    8741  00-0036442          None   6'4\"    215         LSU      2020.0   \n",
       "1    1085  00-0023459          None   6'2\"    225  California      2005.0   \n",
       "2    6892  00-0034857          None   6'5\"    233     Wyoming      2018.0   \n",
       "3    1569  00-0029263          None  5'11\"    206   Wisconsin      2012.0   \n",
       "4    8746  00-0036355          None   6'6\"    237      Oregon      2020.0   \n",
       "\n",
       "   draft_round  draft_overall draft_team  \\\n",
       "0          1.0            1.0    Bengals   \n",
       "1          1.0           24.0    Packers   \n",
       "2          1.0            7.0      Bills   \n",
       "3          3.0           75.0   Seahawks   \n",
       "4          1.0            6.0   Chargers   \n",
       "\n",
       "                                                cols  \n",
       "0  [{'year': '2020', 'team': 'Bengals', 'base_sal...  \n",
       "1  [{'year': '2005', 'team': 'Packers', 'base_sal...  \n",
       "2  [{'year': '2018', 'team': 'Bills', 'base_salar...  \n",
       "3  [{'year': '2012', 'team': 'Seahawks', 'base_sa...  \n",
       "4  [{'year': '2020', 'team': 'Chargers', 'base_sa...  "
      ]
     },
     "execution_count": 5,
     "metadata": {},
     "output_type": "execute_result"
    }
   ],
   "source": [
    "\n",
    "pd.set_option('display.max_columns', None)\n",
    "pd.set_option('display.max_rows', None)\n",
    "df.head()"
   ]
  },
  {
   "cell_type": "code",
   "execution_count": 4,
   "metadata": {},
   "outputs": [],
   "source": [
    "TO_DROP = [\n",
    "    \"qb_epa\", \"xyac_epa\", \"xyac_mean_yardage\", \"xyac_median_yardage\", \"xyac_success\", \"xyac_fd\", \"xpass\", \"pass_oe\",\n",
    "    \"tackle_for_loss_1_player_id\", \"tackle_for_loss_1_player_name\", \"tackle_for_loss_2_player_id\", \"tackle_for_loss_2_player_name\",\n",
    "    \"qb_hit_1_player_id\", \"qb_hit_1_player_name\", \"qb_hit_2_player_id\", \"qb_hit_2_player_name\", \"forced_fumble_player_1_team\",\n",
    "    \"forced_fumble_player_1_player_id\", \"forced_fumble_player_1_player_name\", \"forced_fumble_player_2_team\", \"forced_fumble_player_2_player_id\",\n",
    "    \"forced_fumble_player_2_player_name\", \"solo_tackle_1_team\", \"solo_tackle_2_team\", \"solo_tackle_1_player_id\", \"solo_tackle_2_player_id\",\n",
    "    \"solo_tackle_1_player_name\", \"solo_tackle_2_player_name\", \"assist_tackle_1_player_id\", \"assist_tackle_1_player_name\", \"assist_tackle_1_team\",\n",
    "    \"assist_tackle_2_player_id\", \"assist_tackle_2_player_name\", \"assist_tackle_2_team\", \"assist_tackle_3_player_id\", \"assist_tackle_3_player_name\",\n",
    "    \"assist_tackle_3_team\", \"assist_tackle_4_player_id\", \"assist_tackle_4_player_name\", \"assist_tackle_4_team\", \"tackle_with_assist\",\n",
    "    \"tackle_with_assist_1_player_id\", \"tackle_with_assist_1_player_name\", \"tackle_with_assist_1_team\", \"tackle_with_assist_2_player_id\",\n",
    "    \"tackle_with_assist_2_player_name\", \"tackle_with_assist_2_team\", \"pass_defense_1_player_id\", \"pass_defense_1_player_name\",\n",
    "    \"pass_defense_2_player_id\", \"pass_defense_2_player_name\", \"fumbled_1_team\", \"fumbled_1_player_id\", \"fumbled_1_player_name\",\n",
    "    \"fumbled_2_player_id\", \"fumbled_2_player_name\", \"fumbled_2_team\", \"fumble_recovery_1_team\", \"fumble_recovery_1_yards\",\n",
    "    \"fumble_recovery_1_player_id\", \"fumble_recovery_1_player_name\", \"fumble_recovery_2_team\", \"fumble_recovery_2_yards\",\n",
    "    \"fumble_recovery_2_player_id\", \"fumble_recovery_2_player_name\", \"sack_player_id\", \"sack_player_name\", \"half_sack_1_player_id\",\n",
    "    \"half_sack_1_player_name\", \"half_sack_2_player_id\", \"half_sack_2_player_name\", \"lateral_receiver_player_id\", \"lateral_receiving_yards\",\n",
    "    \"lateral_rusher_player_id\", \"lateral_rusher_player_name\", \"lateral_rushing_yards\", \"ep\", \"epa\", \"total_home_epa\", \"total_away_epa\", \n",
    "    \"total_home_rush_epa\", \"total_away_rush_epa\", \"total_home_pass_epa\", \"total_away_pass_epa\", \"air_epa\", \"yac_epa\", \n",
    "    \"comp_air_epa\", \"comp_yac_epa\", \"total_home_comp_air_epa\", \"total_away_comp_air_epa\", \n",
    "    \"total_home_comp_yac_epa\", \"total_away_comp_yac_epa\", \"total_home_raw_air_epa\", \n",
    "    \"total_away_raw_air_epa\", \"total_home_raw_yac_epa\", \"total_away_raw_yac_epa\", \"wp\", \n",
    "    \"def_wp\", \"home_wp\", \"away_wp\", \"wpa\", \"vegas_wpa\", \"vegas_home_wpa\", \"home_wp_post\", \n",
    "    \"away_wp_post\", \"vegas_wp\", \"vegas_home_wp\", \"total_home_rush_wpa\", \"total_away_rush_wpa\", \n",
    "    \"total_home_pass_wpa\", \"total_away_pass_wpa\", \"air_wpa\", \"yac_wpa\", \"comp_air_wpa\", \n",
    "    \"comp_yac_wpa\", \"total_home_comp_air_wpa\", \"total_away_comp_air_wpa\", \"total_home_comp_yac_wpa\", \n",
    "    \"total_away_comp_yac_wpa\", \"total_home_raw_air_wpa\", \"total_away_raw_air_wpa\", \n",
    "    \"total_home_raw_yac_wpa\", \"total_away_raw_yac_wpa\"\n",
    "]\n",
    "\n",
    "\n",
    "df.drop(columns=TO_DROP, inplace=True)"
   ]
  },
  {
   "cell_type": "code",
   "execution_count": 17,
   "metadata": {},
   "outputs": [
    {
     "name": "stderr",
     "output_type": "stream",
     "text": [
      "\n",
      "KeyboardInterrupt\n",
      "\n"
     ]
    }
   ],
   "source": [
    "pd.set_option('display.max_columns', None)\n",
    "pd.set_option('display.max_rows', None)\n",
    "pd.set_option('display.width', None)\n",
    "pd.set_option('display.max_colwidth', None)\n",
    "pd.set_option('display.expand_frame_repr', False)\n",
    "pd.set_option('display.max_info_columns', 100)\n",
    "pd.set_option('')"
   ]
  },
  {
   "cell_type": "code",
   "execution_count": null,
   "metadata": {},
   "outputs": [],
   "source": [
    "count = 0\n",
    "for column in df.columns:\n",
    "    if count < 5:\n",
    "        print(column, end=\", \")\n",
    "        count += 1\n",
    "    else:\n",
    "        print('\\n'+ column , end=\", \")\n",
    "        count = 0\n"
   ]
  },
  {
   "cell_type": "code",
   "execution_count": 6,
   "metadata": {},
   "outputs": [],
   "source": [
    "df.to_csv('pbpcom2023_cleaned.csv', index=False)"
   ]
  },
  {
   "cell_type": "code",
   "execution_count": 7,
   "metadata": {},
   "outputs": [
    {
     "data": {
      "text/plain": [
       "(49665, 249)"
      ]
     },
     "execution_count": 7,
     "metadata": {},
     "output_type": "execute_result"
    }
   ],
   "source": [
    "df.shape"
   ]
  },
  {
   "cell_type": "code",
   "execution_count": null,
   "metadata": {},
   "outputs": [],
   "source": [
    "pattern = r'/TO \\d+-\\w+\\.\\w+ /'\n",
    "\n",
    "# Extract the pattern into a new column\n",
    "df['extracted_pattern'] = df['text_column'].str.extract(f'({pattern})')\n"
   ]
  },
  {
   "cell_type": "code",
   "execution_count": 9,
   "metadata": {},
   "outputs": [],
   "source": [
    "df.head(100).to_csv('pbpcom2023_cleaned_sample.csv', index=False)"
   ]
  }
 ],
 "metadata": {
  "kernelspec": {
   "display_name": "tf2.10",
   "language": "python",
   "name": "python3"
  },
  "language_info": {
   "codemirror_mode": {
    "name": "ipython",
    "version": 3
   },
   "file_extension": ".py",
   "mimetype": "text/x-python",
   "name": "python",
   "nbconvert_exporter": "python",
   "pygments_lexer": "ipython3",
   "version": "3.10.12"
  }
 },
 "nbformat": 4,
 "nbformat_minor": 2
}
