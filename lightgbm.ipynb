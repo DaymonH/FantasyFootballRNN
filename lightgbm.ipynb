{
 "cells": [
  {
   "cell_type": "code",
   "execution_count": 4,
   "metadata": {},
   "outputs": [
    {
     "name": "stdout",
     "output_type": "stream",
     "text": [
      "[LightGBM] [Info] Auto-choosing col-wise multi-threading, the overhead of testing was 0.000144 seconds.\n",
      "You can set `force_col_wise=true` to remove the overhead.\n",
      "[LightGBM] [Info] Total Bins 332\n",
      "[LightGBM] [Info] Number of data points in the train set: 2979, number of used features: 7\n",
      "[LightGBM] [Info] Start training from score 4.383223\n",
      "Root Mean Squared Error: 4.370383900747044\n"
     ]
    },
    {
     "data": {
      "image/png": "[encoded data removed]",
      "text/plain": [
       "<Figure size 1000x600 with 1 Axes>"
      ]
     },
     "metadata": {},
     "output_type": "display_data"
    }
   ],
   "source": [
    "import pandas as pd\n",
    "import lightgbm as lgb\n",
    "from sklearn.preprocessing import LabelEncoder\n",
    "from sklearn.model_selection import train_test_split\n",
    "from sklearn.metrics import mean_squared_error\n",
    "from math import sqrt\n",
    "import matplotlib.pyplot as plt\n",
    "import joblib\n",
    "\n",
    "# Load your DataFrame\n",
    "data = pd.read_csv('WK_1-6.csv')  # Replace 'your_data.csv' with the actual file path\n",
    "data = data.dropna(subset=['WON'])\n",
    "\n",
    "columns_to_check = [\n",
    "    \"PASS_COMP\", \"PASS_YDS\", \"PASS_TD\", \"INT\",\n",
    "    \"CAR\", \"RUSH_YDS\", \"RUSH_TD\", \"REC\",\n",
    "    \"REC_YARDS\", \"REC_TD\", \"TARGETS\", \"2PC\",\n",
    "    \"FUML\", \"MISC_TD\"\n",
    "]\n",
    "data[\"DnP\"] = (data[columns_to_check] == 0).all(axis=1)\n",
    "\n",
    "# Define the features and target variable\n",
    "features = ['NAME', 'POS', 'TEAM', 'OPP', '@HOME', 'WEEK', 'DnP']\n",
    "target = 'FPTS'\n",
    "\n",
    "label_encoders = {}\n",
    "categorical_columns = ['POS', 'TEAM', 'OPP', 'NAME', '@HOME', 'DnP']\n",
    "for column in categorical_columns:\n",
    "    label_encoders[column] = LabelEncoder()\n",
    "    data[column] = label_encoders[column].fit_transform(data[column])\n",
    "\n",
    "# Sort your data by week\n",
    "data.sort_values(by='WEEK', inplace=True)\n",
    "\n",
    "# Split the data by week\n",
    "train_data = data[data['WEEK'] <= 5]  # Use the first four weeks for training\n",
    "test_data = data[data['WEEK'] == 6]   # Use the fifth week for testing\n",
    "\n",
    "# Separate features and target variables for training and testing\n",
    "X_train = train_data[features]\n",
    "y_train = train_data[target]\n",
    "X_test = test_data[features]\n",
    "y_test = test_data[target]\n",
    "\n",
    "# Create and train the LightGBM model\n",
    "model = lgb.LGBMRegressor(random_state=42)\n",
    "model.fit(X_train, y_train)\n",
    "\n",
    "# Make predictions on the test set\n",
    "y_pred = model.predict(X_test)\n",
    "\n",
    "# Evaluate the model using RMSE (Root Mean Squared Error)\n",
    "rmse = sqrt(mean_squared_error(y_test, y_pred))\n",
    "print(f\"Root Mean Squared Error: {rmse}\")\n",
    "\n",
    "# Get feature importances from the model\n",
    "feature_importance = model.feature_importances_\n",
    "feature_names = X_train.columns\n",
    "feature_importance_df = pd.DataFrame({'Feature': feature_names, 'Importance': feature_importance})\n",
    "feature_importance_df = feature_importance_df.sort_values(by='Importance', ascending=False)\n",
    "\n",
    "plt.figure(figsize=(10, 6))\n",
    "plt.barh(feature_importance_df['Feature'], feature_importance_df['Importance'])\n",
    "plt.xlabel('Importance')\n",
    "plt.ylabel('Feature')\n",
    "plt.title('Feature Importance')\n",
    "plt.show()\n",
    "\n",
    "\n",
    "\n"
   ]
  },
  {
   "cell_type": "code",
   "execution_count": 8,
   "metadata": {},
   "outputs": [],
   "source": [
    "import json\n",
    "\n",
    "# Save the LightGBM model to a JSON file\n",
    "def save_lightgbm_model(model, model_path):\n",
    "    model.booster_.save_model(model_path)\n",
    "\n",
    "from sklearn.preprocessing import LabelEncoder\n",
    "\n",
    "# Save the label encoders to a JSON file\n",
    "def save_label_encoders(label_encoders, label_encoders_path):\n",
    "    # Convert LabelEncoder objects to dictionaries\n",
    "    label_encoders_dict = {column: label_encoder.classes_.tolist() for column, label_encoder in label_encoders.items()}\n",
    "    \n",
    "    # Save the dictionaries to a JSON file\n",
    "    with open(label_encoders_path, 'w') as label_encoders_file:\n",
    "        json.dump(label_encoders_dict, label_encoders_file)\n",
    "\n",
    "# Save the model and label encoders to JSON files\n",
    "# Save the model to a JSON file\n",
    "\n",
    "save_lightgbm_model(model, 'lightgbm_model.json')\n",
    "# Save the label encoders to a JSON file\n",
    "save_label_encoders(label_encoders, 'label_encoders1-5.json')"
   ]
  },
  {
   "cell_type": "code",
   "execution_count": null,
   "metadata": {},
   "outputs": [],
   "source": [
    "df = pd.read_csv('WK_1-6.csv')\n",
    "unique_teams = df['TEAM'].unique()\n",
    "print(unique_teams)\n",
    "\n",
    "position_group = 'QB'  # Replace with the desired position group\n",
    "# Filter the DataFrame to include only the desired position group\n",
    "filtered_df = df[df['POS'] == position_group]\n",
    "# Get the unique players from the filtered DataFrame\n",
    "unique_players = filtered_df['NAME'].unique()\n",
    "# Print the unique players in the specified position group\n",
    "df.head()"
   ]
  },
  {
   "cell_type": "code",
   "execution_count": null,
   "metadata": {},
   "outputs": [],
   "source": [
    "\n",
    "# Create a new data point for prediction with the same features\n",
    "player = 'Jerome Ford'\n",
    "position = 'RB'\n",
    "team = 'Cle'\n",
    "Opp = 'Ind'\n",
    "at_home = False\n",
    "week = 7\n",
    "DnP = False\n",
    "new_data_point = {\n",
    "    'NAME': label_encoders['NAME'].transform([player])[0],\n",
    "    'POS': label_encoders['POS'].transform([position])[0],\n",
    "    'TEAM': label_encoders['TEAM'].transform([team])[0],\n",
    "    'OPP': label_encoders['OPP'].transform([Opp])[0], \n",
    "    '@HOME': label_encoders['@HOME'].transform([at_home])[0], \n",
    "    'WEEK': week,\n",
    "    'DnP': label_encoders['DnP'].transform([DnP])[0]\n",
    "}\n",
    "# Create a DataFrame with the new data point\n",
    "new_data_df = pd.DataFrame([new_data_point])\n",
    "# Use the model to make predictions\n",
    "predicted_fpts = model.predict(new_data_df)\n",
    "# Display the predicted fantasy points\n",
    "print(f\"Predicted points: {player} {predicted_fpts[0]:.2f}\")"
   ]
  }
 ],
 "metadata": {
  "kernelspec": {
   "display_name": "tf2.10",
   "language": "python",
   "name": "python3"
  },
  "language_info": {
   "codemirror_mode": {
    "name": "ipython",
    "version": 3
   },
   "file_extension": ".py",
   "mimetype": "text/x-python",
   "name": "python",
   "nbconvert_exporter": "python",
   "pygments_lexer": "ipython3",
   "version": "3.10.12"
  }
 },
 "nbformat": 4,
 "nbformat_minor": 2
}
