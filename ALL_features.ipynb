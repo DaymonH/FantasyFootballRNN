{
 "cells": [
  {
   "cell_type": "code",
   "execution_count": 1,
   "metadata": {},
   "outputs": [],
   "source": [
    "import pandas as pd\n",
    "import numpy as np\n",
    "\n",
    "df = pd.read_csv('newData/advstats/advstats_week_def_2023.csv')"
   ]
  },
  {
   "cell_type": "markdown",
   "metadata": {},
   "source": [
    "##### Prep Blitz and pressue data prep (per player per game)\n"
   ]
  },
  {
   "cell_type": "code",
   "execution_count": 10,
   "metadata": {},
   "outputs": [
    {
     "data": {
      "text/plain": [
       "Index(['game_id', 'pfr_game_id', 'season', 'week', 'game_type', 'team',\n",
       "       'opponent', 'pfr_player_name', 'pfr_player_id', 'def_ints',\n",
       "       'def_targets', 'def_completions_allowed', 'def_completion_pct',\n",
       "       'def_yards_allowed', 'def_yards_allowed_per_cmp',\n",
       "       'def_yards_allowed_per_tgt', 'def_receiving_td_allowed',\n",
       "       'def_passer_rating_allowed', 'def_adot', 'def_air_yards_completed',\n",
       "       'def_yards_after_catch', 'def_times_blitzed', 'def_times_hurried',\n",
       "       'def_times_hitqb', 'def_sacks', 'def_pressures', 'def_tackles_combined',\n",
       "       'def_missed_tackles', 'def_missed_tackle_pct'],\n",
       "      dtype='object')"
      ]
     },
     "execution_count": 10,
     "metadata": {},
     "output_type": "execute_result"
    }
   ],
   "source": [
    "group_cols = ['season', 'team', 'week']\n",
    "\n",
    "# Define the columns to sum\n",
    "sum_cols = ['def_times_blitzed', 'def_times_hurried', 'def_times_hitqb', 'def_sacks', 'def_pressures', 'def_missed_tackles']\n",
    "\n",
    "# Perform the aggregation\n",
    "agg_df = df.groupby(group_cols).agg({\n",
    "    **{col: 'sum' for col in sum_cols}\n",
    "}).reset_index()\n",
    "\n",
    "# Sort the resulting DataFrame\n",
    "agg_df = df.sort_values(['team', 'season', 'week'])\n",
    "\n",
    "# Display the first few rows of the new DataFrame\n",
    "agg_df.columns\n",
    "\n",
    "to_drop = [ 'def_ints', 'def_targets', \n",
    "           'def_completions_allowed', 'def_completion_pct',\n",
    "       'def_yards_allowed', 'def_yards_allowed_per_cmp',\n",
    "       'def_yards_allowed_per_tgt', 'def_receiving_td_allowed',\n",
    "       'def_passer_rating_allowed', 'def_adot', 'def_air_yards_completed',\n",
    "       'def_yards_after_catch', 'def_times_blitzed', 'def_times_hurried',\n",
    "       'def_times_hitqb', 'def_sacks', 'def_pressures', 'def_tackles_combined',\n",
    "       'def_missed_tackles', 'def_missed_tackle_pct']"
   ]
  },
  {
   "cell_type": "markdown",
   "metadata": {},
   "source": [
    "#### Play by play\n"
   ]
  },
  {
   "cell_type": "code",
   "execution_count": 8,
   "metadata": {},
   "outputs": [
    {
     "name": "stderr",
     "output_type": "stream",
     "text": [
      "C:\\Users\\dhansen\\AppData\\Local\\Temp\\ipykernel_33992\\1347145559.py:1: DtypeWarning: Columns (45,179,180,182,183,189,190,197,198,203,204,205,206,218,219,220,222,224,226,253,254,255,260,262,263,283,284,332) have mixed types. Specify dtype option on import or set low_memory=False.\n",
      "  pbp = pd.read_csv('newData/pbp/play_by_play_2023.csv')\n"
     ]
    }
   ],
   "source": [
    "pbp = pd.read_csv('newData/pbp/play_by_play_2023.csv')\n",
    "TO_DROP = [\n",
    "    \"qb_epa\", \"xyac_epa\", \"xyac_mean_yardage\", \"xyac_median_yardage\", \"xyac_success\", \"xyac_fd\", \"xpass\", \"pass_oe\",\n",
    "    \"tackle_for_loss_1_player_id\", \"tackle_for_loss_1_player_name\", \"tackle_for_loss_2_player_id\", \"tackle_for_loss_2_player_name\",\n",
    "    \"qb_hit_1_player_id\", \"qb_hit_1_player_name\", \"qb_hit_2_player_id\", \"qb_hit_2_player_name\", \"forced_fumble_player_1_team\",\n",
    "    \"forced_fumble_player_1_player_id\", \"forced_fumble_player_1_player_name\", \"forced_fumble_player_2_team\", \"forced_fumble_player_2_player_id\",\n",
    "    \"forced_fumble_player_2_player_name\", \"solo_tackle_1_team\", \"solo_tackle_2_team\", \"solo_tackle_1_player_id\", \"solo_tackle_2_player_id\",\n",
    "    \"solo_tackle_1_player_name\", \"solo_tackle_2_player_name\", \"assist_tackle_1_player_id\", \"assist_tackle_1_player_name\", \"assist_tackle_1_team\",\n",
    "    \"assist_tackle_2_player_id\", \"assist_tackle_2_player_name\", \"assist_tackle_2_team\", \"assist_tackle_3_player_id\", \"assist_tackle_3_player_name\",\n",
    "    \"assist_tackle_3_team\", \"assist_tackle_4_player_id\", \"assist_tackle_4_player_name\", \"assist_tackle_4_team\", \"tackle_with_assist\",\n",
    "    \"tackle_with_assist_1_player_id\", \"tackle_with_assist_1_player_name\", \"tackle_with_assist_1_team\", \"tackle_with_assist_2_player_id\",\n",
    "    \"tackle_with_assist_2_player_name\", \"tackle_with_assist_2_team\", \"pass_defense_1_player_id\", \"pass_defense_1_player_name\",\n",
    "    \"pass_defense_2_player_id\", \"pass_defense_2_player_name\", \"fumbled_1_team\", \"fumbled_1_player_id\", \"fumbled_1_player_name\",\n",
    "    \"fumbled_2_player_id\", \"fumbled_2_player_name\", \"fumbled_2_team\", \"fumble_recovery_1_team\", \"fumble_recovery_1_yards\",\n",
    "    \"fumble_recovery_1_player_id\", \"fumble_recovery_1_player_name\", \"fumble_recovery_2_team\", \"fumble_recovery_2_yards\",\n",
    "    \"fumble_recovery_2_player_id\", \"fumble_recovery_2_player_name\", \"sack_player_id\", \"sack_player_name\", \"half_sack_1_player_id\",\n",
    "    \"half_sack_1_player_name\", \"half_sack_2_player_id\", \"half_sack_2_player_name\", \"lateral_receiver_player_id\", \"lateral_receiving_yards\",\n",
    "    \"lateral_rusher_player_id\", \"lateral_rusher_player_name\", \"lateral_rushing_yards\", \"ep\", \"epa\", \"total_home_epa\", \"total_away_epa\", \n",
    "    \"total_home_rush_epa\", \"total_away_rush_epa\", \"total_home_pass_epa\", \"total_away_pass_epa\", \"air_epa\", \"yac_epa\", \n",
    "    \"comp_air_epa\", \"comp_yac_epa\", \"total_home_comp_air_epa\", \"total_away_comp_air_epa\", \n",
    "    \"total_home_comp_yac_epa\", \"total_away_comp_yac_epa\", \"total_home_raw_air_epa\", \n",
    "    \"total_away_raw_air_epa\", \"total_home_raw_yac_epa\", \"total_away_raw_yac_epa\", \"wp\", \n",
    "    \"def_wp\", \"home_wp\", \"away_wp\", \"wpa\", \"vegas_wpa\", \"vegas_home_wpa\", \"home_wp_post\", \n",
    "    \"away_wp_post\", \"vegas_wp\", \"vegas_home_wp\", \"total_home_rush_wpa\", \"total_away_rush_wpa\", \n",
    "    \"total_home_pass_wpa\", \"total_away_pass_wpa\", \"air_wpa\", \"yac_wpa\", \"comp_air_wpa\", \n",
    "    \"comp_yac_wpa\", \"total_home_comp_air_wpa\", \"total_away_comp_air_wpa\", \"total_home_comp_yac_wpa\", \n",
    "    \"total_away_comp_yac_wpa\", \"total_home_raw_air_wpa\", \"total_away_raw_air_wpa\", \n",
    "    \"total_home_raw_yac_wpa\", \"total_away_raw_yac_wpa\"\n",
    "]\n",
    "\n",
    "\n",
    "pbp.drop(columns=TO_DROP, inplace=True)"
   ]
  },
  {
   "cell_type": "code",
   "execution_count": null,
   "metadata": {},
   "outputs": [],
   "source": [
    "\n",
    "for index, col in enumerate(sorted(pbp.columns)):\n",
    "    if index % 6 == 0:\n",
    "        print()\n",
    "    else:\n",
    "        print(f\"[{col }],  \", end=\"\")"
   ]
  },
  {
   "cell_type": "code",
   "execution_count": 9,
   "metadata": {},
   "outputs": [],
   "source": [
    "\n",
    "def calculate_drive_stats(df):\n",
    "    # Group by game_id, drive, and posteam (offensive team)\n",
    "    drive_stats = df.groupby(['season','week', 'posteam', 'drive']).agg(\n",
    "        drive_play_count=('drive_play_count', 'first'),\n",
    "        total_rush_attempts=('rush_attempt', 'sum'),\n",
    "        total_pass_attempts=('pass_attempt', 'sum'),\n",
    "        total_complete_pass = ('complete_pass', 'sum'),\n",
    "        total_yards_gained=('yards_gained', 'sum'),\n",
    "        total_rushing_yards=('rushing_yards', 'sum'),\n",
    "        total_passing_yards=('passing_yards', 'sum'),\n",
    "        total_sacks=('sack', 'sum'),\n",
    "        total_interceptions=('interception', 'sum'),\n",
    "        drive_yards_penalized=('drive_yards_penalized', 'first'),\n",
    "        drive_time_of_possession=('drive_time_of_possession', 'first')\n",
    "    ).reset_index()\n",
    "\n",
    "    # Calculate Offense Run/Pass Ratio\n",
    "    drive_stats['run_%'] = drive_stats.apply(\n",
    "        lambda row: 0 if row['total_rush_attempts'] + row['total_pass_attempts'] == 0 \n",
    "        else row['total_rush_attempts'] / (row['total_rush_attempts'] + row['total_pass_attempts']),\n",
    "        axis=1\n",
    "    )\n",
    "\n",
    "    drive_stats['pass_%'] = drive_stats.apply(\n",
    "        lambda row: 0 if row['total_rush_attempts'] + row['total_pass_attempts'] == 0 \n",
    "        else row['total_pass_attempts'] / (row['total_rush_attempts'] + row['total_pass_attempts']),\n",
    "        axis=1\n",
    "    )\n",
    "\n",
    "    \n",
    "    # Calculate defensive stats\n",
    "    def_stats = df.groupby(['season','week', 'defteam', 'drive']).agg(\n",
    "        def_plays_allowed = ('drive_play_count', 'first'),\n",
    "        def_tot_yards_allowed = ('yards_gained', 'sum'),\n",
    "        def_rush_yards_allowed = ('rushing_yards', 'sum'),\n",
    "        def_pass_yards_allowed = ('passing_yards', 'sum'),\n",
    "        def_rush_attempts = ('rush_attempt', 'sum'),\n",
    "        def_pass_attempts = ('pass_attempt', 'sum'),\n",
    "        def_sacks = ('sack', 'sum'),\n",
    "        def_ints = ('interception', 'sum')\n",
    "    ).reset_index()\n",
    "\n",
    "\n",
    "    # Calculate yards per attempt\n",
    "    def_stats['def_pass_yards_per_attempt'] = def_stats['def_pass_yards_allowed'] / def_stats['def_pass_attempts'].replace(0, 1)\n",
    "    def_stats['def_rush_yards_per_attempt'] = def_stats['def_rush_yards_allowed'] / def_stats['def_rush_attempts'].replace(0, 1)\n",
    "\n",
    "\n",
    "\n",
    "    return drive_stats, def_stats\n",
    "\n",
    "# Calculate the stats\n",
    "drive_stats, def_stats = calculate_drive_stats(pbp)\n"
   ]
  },
  {
   "cell_type": "code",
   "execution_count": null,
   "metadata": {},
   "outputs": [],
   "source": [
    "pbp.drop(columns=['desc','weather',\t'nfl_api_id']).query('season == 2023 and week == 1 and posteam == \"ARI\" and drive == 6').sort_values('play_id').value_counts('play_type')"
   ]
  },
  {
   "cell_type": "code",
   "execution_count": null,
   "metadata": {},
   "outputs": [],
   "source": [
    "\n",
    "# Assuming your dataframe is named 'df'\n",
    "# First, let's rename the columns for clarity\n",
    "def_stats.columns = ['season', 'week', 'def_team', 'drive', \n",
    "              'def_plays_allowed', 'def_tot_yards_allowed', 'def_rush_yards_allowed', 'def_pass_yards_allowed',\n",
    "              'def_rush_attempts', 'def_pass_attempts', 'def_sacks', 'def_ints',\n",
    "              'def_pass_yards_per_attempt', 'def_rush_yards_per_attempt']\n",
    "\n",
    "# Group by season, week, and defending team\n",
    "grouped = def_stats.groupby(['season', 'week', 'def_team'])\n",
    "\n",
    "# Calculate per-game statistics\n",
    "per_game_stats = grouped.agg({\n",
    "    'def_plays_allowed': 'mean',  # Average plays per drive\n",
    "    'def_tot_yards_allowed': 'mean',  # Average yards per drive\n",
    "    'def_rush_yards_allowed': 'sum',\n",
    "    'def_pass_yards_allowed': 'sum',\n",
    "    'def_rush_attempts': 'sum',\n",
    "    'def_pass_attempts': 'sum'\n",
    "})\n",
    "\n",
    "# Rename columns for clarity\n",
    "per_game_stats.rename(columns={\n",
    "    'def_plays_allowed': 'avg_plays_per_drive',\n",
    "    'def_tot_yards_allowed': 'avg_yards_per_drive'\n",
    "}, inplace=True)\n",
    "\n",
    "# Calculate pass and rush yards per attempt for the entire game\n",
    "per_game_stats['avg_pass_yards_per_attempt'] = per_game_stats['def_pass_yards_allowed'] / per_game_stats['def_pass_attempts']\n",
    "per_game_stats['avg_rush_yards_per_attempt'] = per_game_stats['def_rush_yards_allowed'] / per_game_stats['def_rush_attempts']\n",
    "\n",
    "# Display the first few rows of the result\n",
    "per_game_stats.head(20)"
   ]
  },
  {
   "cell_type": "code",
   "execution_count": null,
   "metadata": {},
   "outputs": [],
   "source": [
    "Playing Against\n",
    "PlayingAtHome\n",
    "\n",
    "DONE Offense Run/Pass Ratio \n",
    "\n",
    "Snap Count % \n",
    "\n",
    "Defense Rank ( from yards allowed per drive) \n",
    "Defense Rush Rank ( from pass yards allowed per drive) \n",
    "Defense Pass Rank ( from rush yards allowed per drive) \n",
    "\n",
    "DONE Defense Pass Yards Per Attempt \n",
    "DONE Defense Rush Yards Per Attempt \n",
    "DONE Defense Plays Allowed \n",
    "\n",
    "\n",
    "DONE Defense Sacks \n",
    "DONE Defense Interceptions \n",
    "\n",
    "\n",
    "\n",
    "--depth chart\n",
    "Defense Number of players injured\n",
    "\n"
   ]
  },
  {
   "cell_type": "code",
   "execution_count": null,
   "metadata": {},
   "outputs": [],
   "source": []
  }
 ],
 "metadata": {
  "kernelspec": {
   "display_name": "Python 3",
   "language": "python",
   "name": "python3"
  },
  "language_info": {
   "codemirror_mode": {
    "name": "ipython",
    "version": 3
   },
   "file_extension": ".py",
   "mimetype": "text/x-python",
   "name": "python",
   "nbconvert_exporter": "python",
   "pygments_lexer": "ipython3",
   "version": "3.11.2"
  }
 },
 "nbformat": 4,
 "nbformat_minor": 2
}
