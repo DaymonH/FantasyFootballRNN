{
 "cells": [
  {
   "cell_type": "code",
   "execution_count": 131,
   "metadata": {},
   "outputs": [
    {
     "name": "stdout",
     "output_type": "stream",
     "text": [
      "Root Mean Squared Error: 6.06603411071511\n"
     ]
    }
   ],
   "source": [
    "import pandas as pd\n",
    "import xgboost as xgb\n",
    "from sklearn.preprocessing import LabelEncoder\n",
    "from sklearn.model_selection import train_test_split\n",
    "from sklearn.metrics import mean_squared_error\n",
    "from math import sqrt\n",
    "import matplotlib.pyplot as plt\n",
    "\n",
    "# Load your DataFrame\n",
    "data = pd.read_csv('WK_1-5.csv')  # Replace 'your_data.csv' with the actual file path\n",
    "data = data.dropna(subset=['WON'])\n",
    "\n",
    "\n",
    "columns_to_check = [\n",
    "    \"PASS_COMP\", \"PASS_YDS\", \"PASS_TD\", \"INT\",\n",
    "    \"CAR\", \"RUSH_YDS\", \"RUSH_TD\", \"REC\",\n",
    "    \"REC_YARDS\", \"REC_TD\", \"TARGETS\", \"2PC\",\n",
    "    \"FUML\", \"MISC_TD\"\n",
    "]\n",
    "data[\"DnP\"] = (data[columns_to_check] == 0).all(axis=1)\n",
    "\n",
    "\n",
    "# Define the features and target variable\n",
    "features = ['NAME', 'POS', 'TEAM', 'OPP', '@HOME', 'WEEK', 'DnP']\n",
    "target = 'FPTS'\n",
    "\n",
    "\n",
    "label_encoders = {}\n",
    "categorical_columns = ['POS', 'TEAM', 'OPP', 'NAME', '@HOME', 'DnP']\n",
    "for column in categorical_columns:\n",
    "    label_encoders[column] = LabelEncoder()\n",
    "    data[column] = label_encoders[column].fit_transform(data[column])\n",
    "\n",
    "\n",
    "\n",
    "# Sort your data by week\n",
    "data.sort_values(by='WEEK', inplace=True)\n",
    "# Split the data by week\n",
    "train_data = data[data['WEEK'] <= 4]  # Use the first four weeks for training\n",
    "test_data = data[data['WEEK'] == 5]   # Use the fifth week for testing\n",
    "# Define the features and target variable\n",
    "# Separate features and target variables for training and testing\n",
    "X_train = train_data[features]\n",
    "y_train = train_data[target]\n",
    "X_test = test_data[features]\n",
    "y_test = test_data[target]\n",
    "# Create and train the XGBoost model\n",
    "model = xgb.XGBRegressor(objective='reg:squarederror', random_state=42)\n",
    "model.fit(X_train, y_train)\n",
    "# Make predictions on the test set\n",
    "y_pred = model.predict(X_test)\n",
    "# Evaluate the model using RMSE (Root Mean Squared Error)\n",
    "rmse = sqrt(mean_squared_error(y_test, y_pred))\n",
    "print(f\"Root Mean Squared Error: {rmse}\")\n",
    "\n",
    "\n",
    "\n",
    "\n",
    "\n",
    "# Get feature importances from the model\n",
    "# feature_importance = model.feature_importances_\n",
    "# feature_names = model.get_booster().feature_names\n",
    "# feature_importance_df = pd.DataFrame({'Feature': feature_names, 'Importance': feature_importance})\n",
    "# feature_importance_df = feature_importance_df.sort_values(by='Importance', ascending=False)\n",
    "# plt.figure(figsize=(10, 6))\n",
    "# plt.barh(feature_importance_df['Feature'], feature_importance_df['Importance'])\n",
    "# plt.xlabel('Importance')\n",
    "# plt.ylabel('Feature')\n",
    "# plt.title('Feature Importance')\n",
    "# plt.show()\n",
    "\n",
    "\n",
    "\n",
    "\n",
    "\n"
   ]
  },
  {
   "cell_type": "code",
   "execution_count": 75,
   "metadata": {},
   "outputs": [
    {
     "name": "stdout",
     "output_type": "stream",
     "text": [
      "['Mia' 'NE' 'GB' 'Ind' 'LAC' 'Cle' 'KC' 'Jax' 'SF' 'Min' 'TB' 'Den' 'Wsh'\n",
      " 'LV' 'NO' 'Chi' 'LAR' 'Det' 'Phi' 'Hou' 'Pit' 'Sea' 'Buf' 'Atl' 'NYJ'\n",
      " 'Car' 'Bal' 'Dal' 'NYG' 'Cin' 'Ten' 'Ari']\n",
      "['Tua Tagovailoa' 'Mac Jones' 'Jordan Love' 'Anthony Richardson'\n",
      " 'Justin Herbert' 'Deshaun Watson' 'Patrick Mahomes' 'Trevor Lawrence'\n",
      " 'Brock Purdy' 'Kirk Cousins' 'Baker Mayfield' 'Russell Wilson'\n",
      " 'Sam Howell' 'Jimmy Garoppolo' 'Derek Carr' 'Justin Fields'\n",
      " 'Matthew Stafford' 'Jared Goff' 'Jalen Hurts' 'C.J. Stroud'\n",
      " 'Kenny Pickett' 'Geno Smith' 'Josh Allen' 'Desmond Ridder' 'Zach Wilson'\n",
      " 'Bryce Young' 'Lamar Jackson' 'Dak Prescott' 'Daniel Jones' 'Joe Burrow'\n",
      " 'Ryan Tannehill' 'Joshua Dobbs' 'Tyrod Taylor' 'Aaron Rodgers'\n",
      " 'Kyler Murray' 'Gardner Minshew' 'Tom Brady' 'Jameis Winston'\n",
      " 'Trey Lance' \"Aidan O'Connell\" 'Mitch Trubisky' 'Will Levis'\n",
      " 'Andy Dalton' 'Kyle Trask' 'Marcus Mariota' 'Hendon Hooker' 'Mike White'\n",
      " 'Dorian Thompson-Robinson' 'Stetson Bennett' 'Taylor Heinicke'\n",
      " 'Jacoby Brissett' 'Ben Roethlisberger' 'Bailey Zappe' 'Tyler Huntley'\n",
      " 'Malik Willis' 'Teddy Bridgewater' 'Kyle Allen' 'Drew Lock' 'Cooper Rush'\n",
      " 'Clayton Tune' 'Sean Clifford' 'Brian Hoyer' 'Jarrett Stidham'\n",
      " 'Tyson Bagent' 'Blaine Gabbert' 'Cam Newton' 'Easton Stick' 'Davis Mills'\n",
      " 'Nick Mullens' 'C.J. Beathard' 'Tanner McKee' 'Ryan Fitzpatrick'\n",
      " 'Skylar Thompson' 'Jaren Hall' 'Mason Rudolph' 'Brandon Allen'\n",
      " 'Sam Ehlinger' 'Chad Henne' 'Jake Haener' 'Josh Johnson' 'Case Keenum'\n",
      " 'Brett Rypien' 'Nate Sudfeld' 'Logan Woodside' 'Jake Browning'\n",
      " 'Sam Darnold' 'PJ Walker' 'Will Grier' 'Tim Boyle' 'Jake Luton']\n"
     ]
    }
   ],
   "source": [
    "df = pd.read_csv('WK_1-5.csv')\n",
    "unique_teams = df['TEAM'].unique()\n",
    "print(unique_teams)\n",
    "\n",
    "position_group = 'QB'  # Replace with the desired position group\n",
    "# Filter the DataFrame to include only the desired position group\n",
    "filtered_df = df[df['POS'] == position_group]\n",
    "# Get the unique players from the filtered DataFrame\n",
    "unique_players = filtered_df['NAME'].unique()\n",
    "# Print the unique players in the specified position group\n",
    "print(unique_players)"
   ]
  },
  {
   "cell_type": "code",
   "execution_count": 147,
   "metadata": {},
   "outputs": [
    {
     "name": "stdout",
     "output_type": "stream",
     "text": [
      "Predicted points: Christian Kirk 15.66\n"
     ]
    }
   ],
   "source": [
    "\n",
    "\n",
    "\n",
    "# Create a new data point for prediction with the same features\n",
    "player = 'Christian Kirk'\n",
    "position = 'WR'\n",
    "team = 'Jax'\n",
    "Opp = 'Ind'\n",
    "at_home = True\n",
    "week = 6\n",
    "DnP = False\n",
    "new_data_point = {\n",
    "    'NAME': label_encoders['NAME'].transform([player])[0],\n",
    "    'POS': label_encoders['POS'].transform([position])[0],\n",
    "    'TEAM': label_encoders['TEAM'].transform([team])[0],\n",
    "    'OPP': label_encoders['OPP'].transform([Opp])[0], \n",
    "    '@HOME': label_encoders['@HOME'].transform([at_home])[0], \n",
    "    'WEEK': week,\n",
    "    'DnP': label_encoders['DnP'].transform([DnP])[0]\n",
    "}\n",
    "# Create a DataFrame with the new data point\n",
    "new_data_df = pd.DataFrame([new_data_point])\n",
    "# Use the model to make predictions\n",
    "predicted_fpts = model.predict(new_data_df)\n",
    "# Display the predicted fantasy points\n",
    "print(f\"Predicted points: {player} {predicted_fpts[0]:.2f}\")\n"
   ]
  }
 ],
 "metadata": {
  "kernelspec": {
   "display_name": "tf2.10",
   "language": "python",
   "name": "python3"
  },
  "language_info": {
   "codemirror_mode": {
    "name": "ipython",
    "version": 3
   },
   "file_extension": ".py",
   "mimetype": "text/x-python",
   "name": "python",
   "nbconvert_exporter": "python",
   "pygments_lexer": "ipython3",
   "version": "3.10.12"
  }
 },
 "nbformat": 4,
 "nbformat_minor": 2
}
