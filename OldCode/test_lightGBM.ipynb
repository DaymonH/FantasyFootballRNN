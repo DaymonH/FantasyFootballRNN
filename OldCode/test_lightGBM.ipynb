{
 "cells": [
  {
   "cell_type": "code",
   "execution_count": 7,
   "metadata": {},
   "outputs": [],
   "source": [
    "import json\n",
    "import lightgbm as lgb\n",
    "from sklearn.preprocessing import LabelEncoder\n",
    "\n",
    "# Load the LightGBM model from a JSON file\n",
    "def load_lightgbm_model(model_path):\n",
    "    model = lgb.Booster(model_file=model_path)\n",
    "    return model\n",
    "\n",
    "# Load the label encoders from a JSON file\n",
    "def load_label_encoders(label_encoders_path):\n",
    "    with open(label_encoders_path, 'r') as label_encoders_file:\n",
    "        label_encoders_dict = json.load(label_encoders_file)\n",
    "    # Reconstruct the LabelEncoder objects\n",
    "    label_encoders = {column: LabelEncoder() for column in label_encoders_dict}\n",
    "    for column, label_encoder in label_encoders.items():\n",
    "        label_encoder.classes_ = label_encoders_dict[column]\n",
    "    return label_encoders\n",
    "\n",
    "# Example usage\n",
    "model_path = 'lambda_function/lightgbm_model.json'  # Specify the correct file path\n",
    "label_encoders_path = 'lambda_function/label_encoders1-5.json'  # Specify the correct file path\n",
    "\n",
    "# Load the LightGBM model\n",
    "loaded_model = load_lightgbm_model(model_path)\n",
    "\n",
    "# Load the label encoders\n",
    "loaded_label_encoders = load_label_encoders(label_encoders_path)"
   ]
  },
  {
   "cell_type": "code",
   "execution_count": 8,
   "metadata": {},
   "outputs": [
    {
     "name": "stdout",
     "output_type": "stream",
     "text": [
      "Predicted points: Jerome Ford 8.31\n"
     ]
    }
   ],
   "source": [
    "# Create a new data point for prediction with the same features\n",
    "player = 'Jerome Ford'\n",
    "position = 'RB'\n",
    "team = 'Cle'\n",
    "Opp = 'Ind'\n",
    "at_home = False\n",
    "week = 7\n",
    "DnP = False\n",
    "new_data_point = {\n",
    "    'NAME': label_encoders['NAME'].transform([player])[0],\n",
    "    'POS': label_encoders['POS'].transform([position])[0],\n",
    "    'TEAM': label_encoders['TEAM'].transform([team])[0],\n",
    "    'OPP': label_encoders['OPP'].transform([Opp])[0], \n",
    "    '@HOME': label_encoders['@HOME'].transform([at_home])[0], \n",
    "    'WEEK': week,\n",
    "    'DnP': label_encoders['DnP'].transform([DnP])[0]\n",
    "}\n",
    "# Create a DataFrame with the new data point\n",
    "new_data_df = pd.DataFrame([new_data_point])\n",
    "# Use the model to make predictions\n",
    "predicted_fpts = model.predict(new_data_df)\n",
    "# Display the predicted fantasy points\n",
    "print(f\"Predicted points: {player} {predicted_fpts[0]:.2f}\")"
   ]
  }
 ],
 "metadata": {
  "kernelspec": {
   "display_name": "tf2.10",
   "language": "python",
   "name": "python3"
  },
  "language_info": {
   "codemirror_mode": {
    "name": "ipython",
    "version": 3
   },
   "file_extension": ".py",
   "mimetype": "text/x-python",
   "name": "python",
   "nbconvert_exporter": "python",
   "pygments_lexer": "ipython3",
   "version": "3.10.12"
  }
 },
 "nbformat": 4,
 "nbformat_minor": 2
}
